{
 "cells": [
  {
   "cell_type": "markdown",
   "id": "aee9f757",
   "metadata": {
    "papermill": {
     "duration": 0.008417,
     "end_time": "2025-04-04T15:27:10.186099",
     "exception": false,
     "start_time": "2025-04-04T15:27:10.177682",
     "status": "completed"
    },
    "tags": []
   },
   "source": [
    "<h1 style=\"color: black; padding: 15px; display: table; text-align: center; \n",
    "           box-shadow: 5px 5px 10px rgba(0,0,0,0.3); width: fit-content; margin: auto;\">\n",
    "  <span style=\"background-color: #f5f5f5; padding: 5px; border: 3px solid black; display: inline-block;\">\n",
    "    Multiple Linear Regression\n",
    "  </span>\n",
    "</h1>\n"
   ]
  },
  {
   "cell_type": "markdown",
   "id": "30ba4ef6",
   "metadata": {
    "papermill": {
     "duration": 0.009436,
     "end_time": "2025-04-04T15:27:10.203669",
     "exception": false,
     "start_time": "2025-04-04T15:27:10.194233",
     "status": "completed"
    },
    "tags": []
   },
   "source": [
    "<!-- Add this in an HTML cell -->\n",
    "\n",
    "<h2><b>Multiple Linear Regression</b></h2>\n",
    "<p>Multiple Linear Regression (MLR) is an extension of simple linear regression, where the model predicts a dependent variable <b>Y</b> using multiple independent variables <b>X<sub>1</sub>, X<sub>2</sub>, …, X<sub>n</sub></b>. The equation for MLR is:</p>\n",
    "\n",
    "<p><b>Y = β<sub>0</sub> + β<sub>1</sub>X<sub>1</sub> + β<sub>2</sub>X<sub>2</sub> + … + β<sub>n</sub>X<sub>n</sub> + ϵ</b></p>\n",
    "\n",
    "<p>where:</p>\n",
    "<ul>\n",
    "  <li><b>Y</b> is the dependent variable (target).</li>\n",
    "  <li><b>X<sub>1</sub>, X<sub>2</sub>, ..., X<sub>n</sub></b> are independent variables (features).</li>\n",
    "  <li><b>β<sub>0</sub></b> is the intercept.</li>\n",
    "  <li><b>β<sub>1</sub>, β<sub>2</sub>, ..., β<sub>n</sub></b> are the coefficients (weights).</li>\n",
    "  <li><b>ϵ</b> is the error term.</li>\n",
    "</ul>\n",
    "<p>The goal of MLR is to find the best-fitting line (hyperplane) that minimizes the error between predicted and actual values.</p>\n",
    "\n",
    "<hr>\n",
    "\n",
    "<h2><b>Why Use Gradient Descent in MLR?</b></h2>\n",
    "<p>To find the optimal values of the coefficients <b>β</b>, we minimize the cost function, typically the <b>Mean Squared Error (MSE)</b>:</p>\n",
    "\n",
    "<p><b>J(β) = (1 / 2m) Σ (Y<sub>i</sub> − Ŷ<sub>i</sub>)²</b></p>\n",
    "\n",
    "<p>where <b>m</b> is the number of data points, and <b>Ŷ<sub>i</sub></b> is the predicted value.</p>\n",
    "\n",
    "<p>There are two main ways to find the coefficients:</p>\n",
    "<ol>\n",
    "  <li><b>Normal Equation:</b> A closed-form solution using matrix operations. However, it becomes computationally expensive for large datasets.</li>\n",
    "  <li><b>Gradient Descent:</b> An iterative optimization algorithm that efficiently finds the best coefficients.</li>\n",
    "</ol>\n",
    "\n",
    "<p><b>Gradient Descent is used because:</b></p>\n",
    "<ul>\n",
    "  <li>It works well with large datasets.</li>\n",
    "  <li>It avoids computing expensive matrix inversions.</li>\n",
    "  <li>It is useful when the number of features is high.</li>\n",
    "</ul>\n",
    "\n",
    "<hr>\n",
    "\n",
    "<h2><b>Types of Gradient Descent</b></h2>\n",
    "\n",
    "<h3><b>1. Batch Gradient Descent (BGD)</b></h3>\n",
    "<ul>\n",
    "  <li>Uses the entire dataset to compute gradients.</li>\n",
    "  <li>Slow for large datasets.</li>\n",
    "  <li>Converges steadily but can get stuck in local minima.</li>\n",
    "</ul>\n",
    "\n",
    "<h3><b>2. Stochastic Gradient Descent (SGD)</b></h3>\n",
    "<ul>\n",
    "  <li>Updates weights using one data point at a time.</li>\n",
    "  <li>Faster but has high variance (noisy updates).</li>\n",
    "  <li>Can escape local minima, but may not converge smoothly.</li>\n",
    "</ul>\n",
    "\n",
    "<h3><b>3. Mini-Batch Gradient Descent (MBGD)</b></h3>\n",
    "<ul>\n",
    "  <li>Uses small batches of data to update weights.</li>\n",
    "  <li>Balances efficiency and stability.</li>\n",
    "  <li>Commonly used in machine learning.</li>\n",
    "</ul>\n",
    "\n",
    "<hr>\n",
    "\n",
    "\n"
   ]
  },
  {
   "cell_type": "markdown",
   "id": "71c6a846",
   "metadata": {
    "papermill": {
     "duration": 0.009167,
     "end_time": "2025-04-04T15:27:10.221176",
     "exception": false,
     "start_time": "2025-04-04T15:27:10.212009",
     "status": "completed"
    },
    "tags": []
   },
   "source": [
    "<h3 style=\"background-color: lightblue; border: 2px solid black; color: black; display: inline-block; padding: 10px; text-align: left; margin: 0;\">\n",
    "  Load & Read Data \n",
    "</h3>\n"
   ]
  },
  {
   "cell_type": "code",
   "execution_count": 1,
   "id": "5642ea1f",
   "metadata": {
    "execution": {
     "iopub.execute_input": "2025-04-04T15:27:10.238959Z",
     "iopub.status.busy": "2025-04-04T15:27:10.238438Z",
     "iopub.status.idle": "2025-04-04T15:27:15.108433Z",
     "shell.execute_reply": "2025-04-04T15:27:15.106599Z"
    },
    "papermill": {
     "duration": 4.881419,
     "end_time": "2025-04-04T15:27:15.110604",
     "exception": false,
     "start_time": "2025-04-04T15:27:10.229185",
     "status": "completed"
    },
    "tags": []
   },
   "outputs": [],
   "source": [
    "import numpy as np\n",
    "import pandas as pd\n",
    "import matplotlib.pyplot as plt\n",
    "import seaborn as sns\n",
    "import plotly.express as px\n",
    "import plotly.io as pio\n",
    "pio.renderers.default = \"iframe\"\n",
    "from sklearn.preprocessing import MinMaxScaler\n",
    "from sklearn.model_selection import train_test_split\n",
    "import random"
   ]
  },
  {
   "cell_type": "code",
   "execution_count": 2,
   "id": "5db1077b",
   "metadata": {
    "execution": {
     "iopub.execute_input": "2025-04-04T15:27:15.128533Z",
     "iopub.status.busy": "2025-04-04T15:27:15.128144Z",
     "iopub.status.idle": "2025-04-04T15:27:15.184778Z",
     "shell.execute_reply": "2025-04-04T15:27:15.183505Z"
    },
    "papermill": {
     "duration": 0.068918,
     "end_time": "2025-04-04T15:27:15.187729",
     "exception": false,
     "start_time": "2025-04-04T15:27:15.118811",
     "status": "completed"
    },
    "tags": []
   },
   "outputs": [
    {
     "data": {
      "text/html": [
       "<div>\n",
       "<style scoped>\n",
       "    .dataframe tbody tr th:only-of-type {\n",
       "        vertical-align: middle;\n",
       "    }\n",
       "\n",
       "    .dataframe tbody tr th {\n",
       "        vertical-align: top;\n",
       "    }\n",
       "\n",
       "    .dataframe thead th {\n",
       "        text-align: right;\n",
       "    }\n",
       "</style>\n",
       "<table border=\"1\" class=\"dataframe\">\n",
       "  <thead>\n",
       "    <tr style=\"text-align: right;\">\n",
       "      <th></th>\n",
       "      <th>Unnamed: 0</th>\n",
       "      <th>TV</th>\n",
       "      <th>Radio</th>\n",
       "      <th>Newspaper</th>\n",
       "      <th>Sales</th>\n",
       "    </tr>\n",
       "  </thead>\n",
       "  <tbody>\n",
       "    <tr>\n",
       "      <th>0</th>\n",
       "      <td>1</td>\n",
       "      <td>230.1</td>\n",
       "      <td>37.8</td>\n",
       "      <td>69.2</td>\n",
       "      <td>22.1</td>\n",
       "    </tr>\n",
       "    <tr>\n",
       "      <th>1</th>\n",
       "      <td>2</td>\n",
       "      <td>44.5</td>\n",
       "      <td>39.3</td>\n",
       "      <td>45.1</td>\n",
       "      <td>10.4</td>\n",
       "    </tr>\n",
       "    <tr>\n",
       "      <th>2</th>\n",
       "      <td>3</td>\n",
       "      <td>17.2</td>\n",
       "      <td>45.9</td>\n",
       "      <td>69.3</td>\n",
       "      <td>9.3</td>\n",
       "    </tr>\n",
       "    <tr>\n",
       "      <th>3</th>\n",
       "      <td>4</td>\n",
       "      <td>151.5</td>\n",
       "      <td>41.3</td>\n",
       "      <td>58.5</td>\n",
       "      <td>18.5</td>\n",
       "    </tr>\n",
       "    <tr>\n",
       "      <th>4</th>\n",
       "      <td>5</td>\n",
       "      <td>180.8</td>\n",
       "      <td>10.8</td>\n",
       "      <td>58.4</td>\n",
       "      <td>12.9</td>\n",
       "    </tr>\n",
       "    <tr>\n",
       "      <th>...</th>\n",
       "      <td>...</td>\n",
       "      <td>...</td>\n",
       "      <td>...</td>\n",
       "      <td>...</td>\n",
       "      <td>...</td>\n",
       "    </tr>\n",
       "    <tr>\n",
       "      <th>195</th>\n",
       "      <td>196</td>\n",
       "      <td>38.2</td>\n",
       "      <td>3.7</td>\n",
       "      <td>13.8</td>\n",
       "      <td>7.6</td>\n",
       "    </tr>\n",
       "    <tr>\n",
       "      <th>196</th>\n",
       "      <td>197</td>\n",
       "      <td>94.2</td>\n",
       "      <td>4.9</td>\n",
       "      <td>8.1</td>\n",
       "      <td>9.7</td>\n",
       "    </tr>\n",
       "    <tr>\n",
       "      <th>197</th>\n",
       "      <td>198</td>\n",
       "      <td>177.0</td>\n",
       "      <td>9.3</td>\n",
       "      <td>6.4</td>\n",
       "      <td>12.8</td>\n",
       "    </tr>\n",
       "    <tr>\n",
       "      <th>198</th>\n",
       "      <td>199</td>\n",
       "      <td>283.6</td>\n",
       "      <td>42.0</td>\n",
       "      <td>66.2</td>\n",
       "      <td>25.5</td>\n",
       "    </tr>\n",
       "    <tr>\n",
       "      <th>199</th>\n",
       "      <td>200</td>\n",
       "      <td>232.1</td>\n",
       "      <td>8.6</td>\n",
       "      <td>8.7</td>\n",
       "      <td>13.4</td>\n",
       "    </tr>\n",
       "  </tbody>\n",
       "</table>\n",
       "<p>200 rows × 5 columns</p>\n",
       "</div>"
      ],
      "text/plain": [
       "     Unnamed: 0     TV  Radio  Newspaper  Sales\n",
       "0             1  230.1   37.8       69.2   22.1\n",
       "1             2   44.5   39.3       45.1   10.4\n",
       "2             3   17.2   45.9       69.3    9.3\n",
       "3             4  151.5   41.3       58.5   18.5\n",
       "4             5  180.8   10.8       58.4   12.9\n",
       "..          ...    ...    ...        ...    ...\n",
       "195         196   38.2    3.7       13.8    7.6\n",
       "196         197   94.2    4.9        8.1    9.7\n",
       "197         198  177.0    9.3        6.4   12.8\n",
       "198         199  283.6   42.0       66.2   25.5\n",
       "199         200  232.1    8.6        8.7   13.4\n",
       "\n",
       "[200 rows x 5 columns]"
      ]
     },
     "execution_count": 2,
     "metadata": {},
     "output_type": "execute_result"
    }
   ],
   "source": [
    "df=pd.read_csv(\"/kaggle/input/advertising-dataset/Advertising.csv\")\n",
    "df"
   ]
  },
  {
   "cell_type": "code",
   "execution_count": 3,
   "id": "8a6dab2c",
   "metadata": {
    "execution": {
     "iopub.execute_input": "2025-04-04T15:27:15.206344Z",
     "iopub.status.busy": "2025-04-04T15:27:15.205803Z",
     "iopub.status.idle": "2025-04-04T15:27:15.212908Z",
     "shell.execute_reply": "2025-04-04T15:27:15.211437Z"
    },
    "papermill": {
     "duration": 0.019943,
     "end_time": "2025-04-04T15:27:15.216130",
     "exception": false,
     "start_time": "2025-04-04T15:27:15.196187",
     "status": "completed"
    },
    "tags": []
   },
   "outputs": [
    {
     "data": {
      "text/plain": [
       "Index(['Unnamed: 0', 'TV', 'Radio', 'Newspaper', 'Sales'], dtype='object')"
      ]
     },
     "execution_count": 3,
     "metadata": {},
     "output_type": "execute_result"
    }
   ],
   "source": [
    "df.columns"
   ]
  },
  {
   "cell_type": "code",
   "execution_count": 4,
   "id": "a21bd4ec",
   "metadata": {
    "execution": {
     "iopub.execute_input": "2025-04-04T15:27:15.239365Z",
     "iopub.status.busy": "2025-04-04T15:27:15.238953Z",
     "iopub.status.idle": "2025-04-04T15:27:15.245263Z",
     "shell.execute_reply": "2025-04-04T15:27:15.243846Z"
    },
    "papermill": {
     "duration": 0.019539,
     "end_time": "2025-04-04T15:27:15.247451",
     "exception": false,
     "start_time": "2025-04-04T15:27:15.227912",
     "status": "completed"
    },
    "tags": []
   },
   "outputs": [],
   "source": [
    "df.drop(columns='Unnamed: 0',inplace=True)"
   ]
  },
  {
   "cell_type": "code",
   "execution_count": 5,
   "id": "f91924e0",
   "metadata": {
    "execution": {
     "iopub.execute_input": "2025-04-04T15:27:15.267545Z",
     "iopub.status.busy": "2025-04-04T15:27:15.267110Z",
     "iopub.status.idle": "2025-04-04T15:27:15.283930Z",
     "shell.execute_reply": "2025-04-04T15:27:15.282761Z"
    },
    "papermill": {
     "duration": 0.029671,
     "end_time": "2025-04-04T15:27:15.285901",
     "exception": false,
     "start_time": "2025-04-04T15:27:15.256230",
     "status": "completed"
    },
    "tags": []
   },
   "outputs": [
    {
     "data": {
      "text/html": [
       "<div>\n",
       "<style scoped>\n",
       "    .dataframe tbody tr th:only-of-type {\n",
       "        vertical-align: middle;\n",
       "    }\n",
       "\n",
       "    .dataframe tbody tr th {\n",
       "        vertical-align: top;\n",
       "    }\n",
       "\n",
       "    .dataframe thead th {\n",
       "        text-align: right;\n",
       "    }\n",
       "</style>\n",
       "<table border=\"1\" class=\"dataframe\">\n",
       "  <thead>\n",
       "    <tr style=\"text-align: right;\">\n",
       "      <th></th>\n",
       "      <th>TV</th>\n",
       "      <th>Radio</th>\n",
       "      <th>Newspaper</th>\n",
       "      <th>Sales</th>\n",
       "    </tr>\n",
       "  </thead>\n",
       "  <tbody>\n",
       "    <tr>\n",
       "      <th>0</th>\n",
       "      <td>230.1</td>\n",
       "      <td>37.8</td>\n",
       "      <td>69.2</td>\n",
       "      <td>22.1</td>\n",
       "    </tr>\n",
       "    <tr>\n",
       "      <th>1</th>\n",
       "      <td>44.5</td>\n",
       "      <td>39.3</td>\n",
       "      <td>45.1</td>\n",
       "      <td>10.4</td>\n",
       "    </tr>\n",
       "    <tr>\n",
       "      <th>2</th>\n",
       "      <td>17.2</td>\n",
       "      <td>45.9</td>\n",
       "      <td>69.3</td>\n",
       "      <td>9.3</td>\n",
       "    </tr>\n",
       "    <tr>\n",
       "      <th>3</th>\n",
       "      <td>151.5</td>\n",
       "      <td>41.3</td>\n",
       "      <td>58.5</td>\n",
       "      <td>18.5</td>\n",
       "    </tr>\n",
       "    <tr>\n",
       "      <th>4</th>\n",
       "      <td>180.8</td>\n",
       "      <td>10.8</td>\n",
       "      <td>58.4</td>\n",
       "      <td>12.9</td>\n",
       "    </tr>\n",
       "    <tr>\n",
       "      <th>...</th>\n",
       "      <td>...</td>\n",
       "      <td>...</td>\n",
       "      <td>...</td>\n",
       "      <td>...</td>\n",
       "    </tr>\n",
       "    <tr>\n",
       "      <th>195</th>\n",
       "      <td>38.2</td>\n",
       "      <td>3.7</td>\n",
       "      <td>13.8</td>\n",
       "      <td>7.6</td>\n",
       "    </tr>\n",
       "    <tr>\n",
       "      <th>196</th>\n",
       "      <td>94.2</td>\n",
       "      <td>4.9</td>\n",
       "      <td>8.1</td>\n",
       "      <td>9.7</td>\n",
       "    </tr>\n",
       "    <tr>\n",
       "      <th>197</th>\n",
       "      <td>177.0</td>\n",
       "      <td>9.3</td>\n",
       "      <td>6.4</td>\n",
       "      <td>12.8</td>\n",
       "    </tr>\n",
       "    <tr>\n",
       "      <th>198</th>\n",
       "      <td>283.6</td>\n",
       "      <td>42.0</td>\n",
       "      <td>66.2</td>\n",
       "      <td>25.5</td>\n",
       "    </tr>\n",
       "    <tr>\n",
       "      <th>199</th>\n",
       "      <td>232.1</td>\n",
       "      <td>8.6</td>\n",
       "      <td>8.7</td>\n",
       "      <td>13.4</td>\n",
       "    </tr>\n",
       "  </tbody>\n",
       "</table>\n",
       "<p>200 rows × 4 columns</p>\n",
       "</div>"
      ],
      "text/plain": [
       "        TV  Radio  Newspaper  Sales\n",
       "0    230.1   37.8       69.2   22.1\n",
       "1     44.5   39.3       45.1   10.4\n",
       "2     17.2   45.9       69.3    9.3\n",
       "3    151.5   41.3       58.5   18.5\n",
       "4    180.8   10.8       58.4   12.9\n",
       "..     ...    ...        ...    ...\n",
       "195   38.2    3.7       13.8    7.6\n",
       "196   94.2    4.9        8.1    9.7\n",
       "197  177.0    9.3        6.4   12.8\n",
       "198  283.6   42.0       66.2   25.5\n",
       "199  232.1    8.6        8.7   13.4\n",
       "\n",
       "[200 rows x 4 columns]"
      ]
     },
     "execution_count": 5,
     "metadata": {},
     "output_type": "execute_result"
    }
   ],
   "source": [
    "df"
   ]
  },
  {
   "cell_type": "code",
   "execution_count": 6,
   "id": "f5acd010",
   "metadata": {
    "execution": {
     "iopub.execute_input": "2025-04-04T15:27:15.305471Z",
     "iopub.status.busy": "2025-04-04T15:27:15.305075Z",
     "iopub.status.idle": "2025-04-04T15:27:15.314865Z",
     "shell.execute_reply": "2025-04-04T15:27:15.313100Z"
    },
    "papermill": {
     "duration": 0.022905,
     "end_time": "2025-04-04T15:27:15.318490",
     "exception": false,
     "start_time": "2025-04-04T15:27:15.295585",
     "status": "completed"
    },
    "tags": []
   },
   "outputs": [
    {
     "data": {
      "text/plain": [
       "TV           0\n",
       "Radio        0\n",
       "Newspaper    0\n",
       "Sales        0\n",
       "dtype: int64"
      ]
     },
     "execution_count": 6,
     "metadata": {},
     "output_type": "execute_result"
    }
   ],
   "source": [
    "df.isnull().sum()"
   ]
  },
  {
   "cell_type": "code",
   "execution_count": 7,
   "id": "c76dd746",
   "metadata": {
    "execution": {
     "iopub.execute_input": "2025-04-04T15:27:15.343839Z",
     "iopub.status.busy": "2025-04-04T15:27:15.343340Z",
     "iopub.status.idle": "2025-04-04T15:27:15.360844Z",
     "shell.execute_reply": "2025-04-04T15:27:15.359353Z"
    },
    "papermill": {
     "duration": 0.032556,
     "end_time": "2025-04-04T15:27:15.363552",
     "exception": false,
     "start_time": "2025-04-04T15:27:15.330996",
     "status": "completed"
    },
    "tags": []
   },
   "outputs": [
    {
     "data": {
      "text/plain": [
       "0"
      ]
     },
     "execution_count": 7,
     "metadata": {},
     "output_type": "execute_result"
    }
   ],
   "source": [
    "df.duplicated().sum()"
   ]
  },
  {
   "cell_type": "code",
   "execution_count": 8,
   "id": "a3e3563c",
   "metadata": {
    "execution": {
     "iopub.execute_input": "2025-04-04T15:27:15.388221Z",
     "iopub.status.busy": "2025-04-04T15:27:15.387868Z",
     "iopub.status.idle": "2025-04-04T15:27:15.416838Z",
     "shell.execute_reply": "2025-04-04T15:27:15.414100Z"
    },
    "papermill": {
     "duration": 0.040996,
     "end_time": "2025-04-04T15:27:15.418945",
     "exception": false,
     "start_time": "2025-04-04T15:27:15.377949",
     "status": "completed"
    },
    "tags": []
   },
   "outputs": [
    {
     "data": {
      "text/html": [
       "<div>\n",
       "<style scoped>\n",
       "    .dataframe tbody tr th:only-of-type {\n",
       "        vertical-align: middle;\n",
       "    }\n",
       "\n",
       "    .dataframe tbody tr th {\n",
       "        vertical-align: top;\n",
       "    }\n",
       "\n",
       "    .dataframe thead th {\n",
       "        text-align: right;\n",
       "    }\n",
       "</style>\n",
       "<table border=\"1\" class=\"dataframe\">\n",
       "  <thead>\n",
       "    <tr style=\"text-align: right;\">\n",
       "      <th></th>\n",
       "      <th>TV</th>\n",
       "      <th>Radio</th>\n",
       "      <th>Newspaper</th>\n",
       "      <th>Sales</th>\n",
       "    </tr>\n",
       "  </thead>\n",
       "  <tbody>\n",
       "    <tr>\n",
       "      <th>count</th>\n",
       "      <td>200.000000</td>\n",
       "      <td>200.000000</td>\n",
       "      <td>200.000000</td>\n",
       "      <td>200.000000</td>\n",
       "    </tr>\n",
       "    <tr>\n",
       "      <th>mean</th>\n",
       "      <td>147.042500</td>\n",
       "      <td>23.264000</td>\n",
       "      <td>30.554000</td>\n",
       "      <td>14.022500</td>\n",
       "    </tr>\n",
       "    <tr>\n",
       "      <th>std</th>\n",
       "      <td>85.854236</td>\n",
       "      <td>14.846809</td>\n",
       "      <td>21.778621</td>\n",
       "      <td>5.217457</td>\n",
       "    </tr>\n",
       "    <tr>\n",
       "      <th>min</th>\n",
       "      <td>0.700000</td>\n",
       "      <td>0.000000</td>\n",
       "      <td>0.300000</td>\n",
       "      <td>1.600000</td>\n",
       "    </tr>\n",
       "    <tr>\n",
       "      <th>25%</th>\n",
       "      <td>74.375000</td>\n",
       "      <td>9.975000</td>\n",
       "      <td>12.750000</td>\n",
       "      <td>10.375000</td>\n",
       "    </tr>\n",
       "    <tr>\n",
       "      <th>50%</th>\n",
       "      <td>149.750000</td>\n",
       "      <td>22.900000</td>\n",
       "      <td>25.750000</td>\n",
       "      <td>12.900000</td>\n",
       "    </tr>\n",
       "    <tr>\n",
       "      <th>75%</th>\n",
       "      <td>218.825000</td>\n",
       "      <td>36.525000</td>\n",
       "      <td>45.100000</td>\n",
       "      <td>17.400000</td>\n",
       "    </tr>\n",
       "    <tr>\n",
       "      <th>max</th>\n",
       "      <td>296.400000</td>\n",
       "      <td>49.600000</td>\n",
       "      <td>114.000000</td>\n",
       "      <td>27.000000</td>\n",
       "    </tr>\n",
       "  </tbody>\n",
       "</table>\n",
       "</div>"
      ],
      "text/plain": [
       "               TV       Radio   Newspaper       Sales\n",
       "count  200.000000  200.000000  200.000000  200.000000\n",
       "mean   147.042500   23.264000   30.554000   14.022500\n",
       "std     85.854236   14.846809   21.778621    5.217457\n",
       "min      0.700000    0.000000    0.300000    1.600000\n",
       "25%     74.375000    9.975000   12.750000   10.375000\n",
       "50%    149.750000   22.900000   25.750000   12.900000\n",
       "75%    218.825000   36.525000   45.100000   17.400000\n",
       "max    296.400000   49.600000  114.000000   27.000000"
      ]
     },
     "execution_count": 8,
     "metadata": {},
     "output_type": "execute_result"
    }
   ],
   "source": [
    "df.describe()"
   ]
  },
  {
   "cell_type": "code",
   "execution_count": 9,
   "id": "2884f4b0",
   "metadata": {
    "execution": {
     "iopub.execute_input": "2025-04-04T15:27:15.439034Z",
     "iopub.status.busy": "2025-04-04T15:27:15.438668Z",
     "iopub.status.idle": "2025-04-04T15:27:15.458540Z",
     "shell.execute_reply": "2025-04-04T15:27:15.457199Z"
    },
    "papermill": {
     "duration": 0.0318,
     "end_time": "2025-04-04T15:27:15.460446",
     "exception": false,
     "start_time": "2025-04-04T15:27:15.428646",
     "status": "completed"
    },
    "tags": []
   },
   "outputs": [
    {
     "name": "stdout",
     "output_type": "stream",
     "text": [
      "<class 'pandas.core.frame.DataFrame'>\n",
      "RangeIndex: 200 entries, 0 to 199\n",
      "Data columns (total 4 columns):\n",
      " #   Column     Non-Null Count  Dtype  \n",
      "---  ------     --------------  -----  \n",
      " 0   TV         200 non-null    float64\n",
      " 1   Radio      200 non-null    float64\n",
      " 2   Newspaper  200 non-null    float64\n",
      " 3   Sales      200 non-null    float64\n",
      "dtypes: float64(4)\n",
      "memory usage: 6.4 KB\n"
     ]
    }
   ],
   "source": [
    "df.info()"
   ]
  },
  {
   "cell_type": "markdown",
   "id": "8852af85",
   "metadata": {
    "papermill": {
     "duration": 0.009831,
     "end_time": "2025-04-04T15:27:15.479599",
     "exception": false,
     "start_time": "2025-04-04T15:27:15.469768",
     "status": "completed"
    },
    "tags": []
   },
   "source": [
    "<h3 style=\"background-color: lightblue; border: 2px solid black; color: black; display: inline-block; padding: 10px; text-align: left; margin: 0;\">\n",
    "   Data Visualization  \n",
    "</h3>  "
   ]
  },
  {
   "cell_type": "code",
   "execution_count": 10,
   "id": "ffdb179d",
   "metadata": {
    "execution": {
     "iopub.execute_input": "2025-04-04T15:27:15.498963Z",
     "iopub.status.busy": "2025-04-04T15:27:15.498594Z",
     "iopub.status.idle": "2025-04-04T15:27:15.912047Z",
     "shell.execute_reply": "2025-04-04T15:27:15.910808Z"
    },
    "papermill": {
     "duration": 0.425754,
     "end_time": "2025-04-04T15:27:15.914311",
     "exception": false,
     "start_time": "2025-04-04T15:27:15.488557",
     "status": "completed"
    },
    "tags": []
   },
   "outputs": [
    {
     "data": {
      "text/plain": [
       "<Axes: >"
      ]
     },
     "execution_count": 10,
     "metadata": {},
     "output_type": "execute_result"
    },
    {
     "data": {
      "image/png": "[encoded data removed]",
      "text/plain": [
       "<Figure size 640x480 with 2 Axes>"
      ]
     },
     "metadata": {},
     "output_type": "display_data"
    }
   ],
   "source": [
    "dt=df.select_dtypes(include='number')\n",
    "sns.heatmap(dt.corr(),annot=True,cmap='magma',fmt='0.2f',linewidth=3)"
   ]
  },
  {
   "cell_type": "code",
   "execution_count": 11,
   "id": "d75ce91c",
   "metadata": {
    "execution": {
     "iopub.execute_input": "2025-04-04T15:27:15.936154Z",
     "iopub.status.busy": "2025-04-04T15:27:15.935769Z",
     "iopub.status.idle": "2025-04-04T15:27:18.033499Z",
     "shell.execute_reply": "2025-04-04T15:27:18.032080Z"
    },
    "papermill": {
     "duration": 2.110902,
     "end_time": "2025-04-04T15:27:18.035637",
     "exception": false,
     "start_time": "2025-04-04T15:27:15.924735",
     "status": "completed"
    },
    "tags": []
   },
   "outputs": [
    {
     "data": {
      "text/html": [
       "<iframe\n",
       "    scrolling=\"no\"\n",
       "    width=\"100%\"\n",
       "    height=\"545px\"\n",
       "    src=\"iframe_figures/figure_11.html\"\n",
       "    frameborder=\"0\"\n",
       "    allowfullscreen\n",
       "></iframe>\n"
      ]
     },
     "metadata": {},
     "output_type": "display_data"
    }
   ],
   "source": [
    "fig=px.scatter(df,x='Newspaper',y='Radio',color='Sales',title='Scatter For Radio vs Newspaper')\n",
    "fig"
   ]
  },
  {
   "cell_type": "code",
   "execution_count": 12,
   "id": "84d5c46d",
   "metadata": {
    "execution": {
     "iopub.execute_input": "2025-04-04T15:27:18.057913Z",
     "iopub.status.busy": "2025-04-04T15:27:18.057541Z",
     "iopub.status.idle": "2025-04-04T15:27:18.166903Z",
     "shell.execute_reply": "2025-04-04T15:27:18.165610Z"
    },
    "papermill": {
     "duration": 0.122952,
     "end_time": "2025-04-04T15:27:18.169077",
     "exception": false,
     "start_time": "2025-04-04T15:27:18.046125",
     "status": "completed"
    },
    "tags": []
   },
   "outputs": [
    {
     "data": {
      "text/html": [
       "<iframe\n",
       "    scrolling=\"no\"\n",
       "    width=\"100%\"\n",
       "    height=\"545px\"\n",
       "    src=\"iframe_figures/figure_12.html\"\n",
       "    frameborder=\"0\"\n",
       "    allowfullscreen\n",
       "></iframe>\n"
      ]
     },
     "metadata": {},
     "output_type": "display_data"
    }
   ],
   "source": [
    "fig=px.scatter(df,x='Radio',y='Sales',color='Sales',title='Scatter For Radio vs Sales')\n",
    "fig"
   ]
  },
  {
   "cell_type": "code",
   "execution_count": 13,
   "id": "98f5bdc3",
   "metadata": {
    "execution": {
     "iopub.execute_input": "2025-04-04T15:27:18.190672Z",
     "iopub.status.busy": "2025-04-04T15:27:18.190119Z",
     "iopub.status.idle": "2025-04-04T15:27:18.300759Z",
     "shell.execute_reply": "2025-04-04T15:27:18.299624Z"
    },
    "papermill": {
     "duration": 0.123231,
     "end_time": "2025-04-04T15:27:18.302683",
     "exception": false,
     "start_time": "2025-04-04T15:27:18.179452",
     "status": "completed"
    },
    "tags": []
   },
   "outputs": [
    {
     "data": {
      "text/html": [
       "<iframe\n",
       "    scrolling=\"no\"\n",
       "    width=\"100%\"\n",
       "    height=\"545px\"\n",
       "    src=\"iframe_figures/figure_13.html\"\n",
       "    frameborder=\"0\"\n",
       "    allowfullscreen\n",
       "></iframe>\n"
      ]
     },
     "metadata": {},
     "output_type": "display_data"
    }
   ],
   "source": [
    "fig=px.scatter(df,x='Sales',y='TV',color='Sales',title='Scatter For Sales VS TV')\n",
    "fig"
   ]
  },
  {
   "cell_type": "markdown",
   "id": "7e1e5997",
   "metadata": {
    "papermill": {
     "duration": 0.009782,
     "end_time": "2025-04-04T15:27:18.322620",
     "exception": false,
     "start_time": "2025-04-04T15:27:18.312838",
     "status": "completed"
    },
    "tags": []
   },
   "source": [
    "<h3 style=\"background-color: lightblue; border: 2px solid black; color: black; display: inline-block; padding: 10px; text-align: left; margin: 0;\">\n",
    "   Data Scalling  \n",
    "</h3>  "
   ]
  },
  {
   "cell_type": "code",
   "execution_count": 14,
   "id": "7c1e7cfd",
   "metadata": {
    "execution": {
     "iopub.execute_input": "2025-04-04T15:27:18.344061Z",
     "iopub.status.busy": "2025-04-04T15:27:18.343659Z",
     "iopub.status.idle": "2025-04-04T15:27:18.359994Z",
     "shell.execute_reply": "2025-04-04T15:27:18.358800Z"
    },
    "papermill": {
     "duration": 0.029269,
     "end_time": "2025-04-04T15:27:18.362053",
     "exception": false,
     "start_time": "2025-04-04T15:27:18.332784",
     "status": "completed"
    },
    "tags": []
   },
   "outputs": [
    {
     "data": {
      "text/html": [
       "<div>\n",
       "<style scoped>\n",
       "    .dataframe tbody tr th:only-of-type {\n",
       "        vertical-align: middle;\n",
       "    }\n",
       "\n",
       "    .dataframe tbody tr th {\n",
       "        vertical-align: top;\n",
       "    }\n",
       "\n",
       "    .dataframe thead th {\n",
       "        text-align: right;\n",
       "    }\n",
       "</style>\n",
       "<table border=\"1\" class=\"dataframe\">\n",
       "  <thead>\n",
       "    <tr style=\"text-align: right;\">\n",
       "      <th></th>\n",
       "      <th>TV</th>\n",
       "      <th>Radio</th>\n",
       "      <th>Newspaper</th>\n",
       "      <th>Sales</th>\n",
       "    </tr>\n",
       "  </thead>\n",
       "  <tbody>\n",
       "    <tr>\n",
       "      <th>0</th>\n",
       "      <td>0.969852</td>\n",
       "      <td>0.981522</td>\n",
       "      <td>1.778945</td>\n",
       "      <td>1.552053</td>\n",
       "    </tr>\n",
       "    <tr>\n",
       "      <th>1</th>\n",
       "      <td>-1.197376</td>\n",
       "      <td>1.082808</td>\n",
       "      <td>0.669579</td>\n",
       "      <td>-0.696046</td>\n",
       "    </tr>\n",
       "    <tr>\n",
       "      <th>2</th>\n",
       "      <td>-1.516155</td>\n",
       "      <td>1.528463</td>\n",
       "      <td>1.783549</td>\n",
       "      <td>-0.907406</td>\n",
       "    </tr>\n",
       "    <tr>\n",
       "      <th>3</th>\n",
       "      <td>0.052050</td>\n",
       "      <td>1.217855</td>\n",
       "      <td>1.286405</td>\n",
       "      <td>0.860330</td>\n",
       "    </tr>\n",
       "    <tr>\n",
       "      <th>4</th>\n",
       "      <td>0.394182</td>\n",
       "      <td>-0.841614</td>\n",
       "      <td>1.281802</td>\n",
       "      <td>-0.215683</td>\n",
       "    </tr>\n",
       "    <tr>\n",
       "      <th>...</th>\n",
       "      <td>...</td>\n",
       "      <td>...</td>\n",
       "      <td>...</td>\n",
       "      <td>...</td>\n",
       "    </tr>\n",
       "    <tr>\n",
       "      <th>195</th>\n",
       "      <td>-1.270941</td>\n",
       "      <td>-1.321031</td>\n",
       "      <td>-0.771217</td>\n",
       "      <td>-1.234053</td>\n",
       "    </tr>\n",
       "    <tr>\n",
       "      <th>196</th>\n",
       "      <td>-0.617035</td>\n",
       "      <td>-1.240003</td>\n",
       "      <td>-1.033598</td>\n",
       "      <td>-0.830548</td>\n",
       "    </tr>\n",
       "    <tr>\n",
       "      <th>197</th>\n",
       "      <td>0.349810</td>\n",
       "      <td>-0.942899</td>\n",
       "      <td>-1.111852</td>\n",
       "      <td>-0.234898</td>\n",
       "    </tr>\n",
       "    <tr>\n",
       "      <th>198</th>\n",
       "      <td>1.594565</td>\n",
       "      <td>1.265121</td>\n",
       "      <td>1.640850</td>\n",
       "      <td>2.205347</td>\n",
       "    </tr>\n",
       "    <tr>\n",
       "      <th>199</th>\n",
       "      <td>0.993206</td>\n",
       "      <td>-0.990165</td>\n",
       "      <td>-1.005979</td>\n",
       "      <td>-0.119610</td>\n",
       "    </tr>\n",
       "  </tbody>\n",
       "</table>\n",
       "<p>200 rows × 4 columns</p>\n",
       "</div>"
      ],
      "text/plain": [
       "           TV     Radio  Newspaper     Sales\n",
       "0    0.969852  0.981522   1.778945  1.552053\n",
       "1   -1.197376  1.082808   0.669579 -0.696046\n",
       "2   -1.516155  1.528463   1.783549 -0.907406\n",
       "3    0.052050  1.217855   1.286405  0.860330\n",
       "4    0.394182 -0.841614   1.281802 -0.215683\n",
       "..        ...       ...        ...       ...\n",
       "195 -1.270941 -1.321031  -0.771217 -1.234053\n",
       "196 -0.617035 -1.240003  -1.033598 -0.830548\n",
       "197  0.349810 -0.942899  -1.111852 -0.234898\n",
       "198  1.594565  1.265121   1.640850  2.205347\n",
       "199  0.993206 -0.990165  -1.005979 -0.119610\n",
       "\n",
       "[200 rows x 4 columns]"
      ]
     },
     "execution_count": 14,
     "metadata": {},
     "output_type": "execute_result"
    }
   ],
   "source": [
    "from sklearn.preprocessing import StandardScaler\n",
    "\n",
    "scaler = StandardScaler()\n",
    "df_scaled=scaler.fit_transform(df)\n",
    "df_scaled=pd.DataFrame(df_scaled,columns=df.columns)\n",
    "df_scaled"
   ]
  },
  {
   "cell_type": "markdown",
   "id": "62020727",
   "metadata": {
    "papermill": {
     "duration": 0.009625,
     "end_time": "2025-04-04T15:27:18.382026",
     "exception": false,
     "start_time": "2025-04-04T15:27:18.372401",
     "status": "completed"
    },
    "tags": []
   },
   "source": [
    "<h3 style=\"background-color: lightblue; border: 2px solid black; color: black; display: inline-block; padding: 10px; text-align: left; margin: 0;\">\n",
    "  Split Data  \n",
    "</h3>  "
   ]
  },
  {
   "cell_type": "code",
   "execution_count": 15,
   "id": "5769f353",
   "metadata": {
    "execution": {
     "iopub.execute_input": "2025-04-04T15:27:18.404350Z",
     "iopub.status.busy": "2025-04-04T15:27:18.403935Z",
     "iopub.status.idle": "2025-04-04T15:27:18.409987Z",
     "shell.execute_reply": "2025-04-04T15:27:18.408810Z"
    },
    "papermill": {
     "duration": 0.019824,
     "end_time": "2025-04-04T15:27:18.412015",
     "exception": false,
     "start_time": "2025-04-04T15:27:18.392191",
     "status": "completed"
    },
    "tags": []
   },
   "outputs": [],
   "source": [
    "x=df_scaled.drop(columns='Sales')\n",
    "y=df_scaled['Sales']"
   ]
  },
  {
   "cell_type": "code",
   "execution_count": 16,
   "id": "ee491850",
   "metadata": {
    "execution": {
     "iopub.execute_input": "2025-04-04T15:27:18.433740Z",
     "iopub.status.busy": "2025-04-04T15:27:18.433315Z",
     "iopub.status.idle": "2025-04-04T15:27:18.440788Z",
     "shell.execute_reply": "2025-04-04T15:27:18.439549Z"
    },
    "papermill": {
     "duration": 0.02083,
     "end_time": "2025-04-04T15:27:18.443109",
     "exception": false,
     "start_time": "2025-04-04T15:27:18.422279",
     "status": "completed"
    },
    "tags": []
   },
   "outputs": [],
   "source": [
    "X_train,X_test,Y_train,Y_test=train_test_split(x,y,test_size=0.2,random_state=11)"
   ]
  },
  {
   "cell_type": "markdown",
   "id": "41dd3b89",
   "metadata": {
    "papermill": {
     "duration": 0.009701,
     "end_time": "2025-04-04T15:27:18.463189",
     "exception": false,
     "start_time": "2025-04-04T15:27:18.453488",
     "status": "completed"
    },
    "tags": []
   },
   "source": [
    "<h3 style=\"background-color: lightblue; border: 2px solid black; color: black; display: inline-block; padding: 10px; text-align: left; margin: 0;\">\n",
    "MSE & R2_Score   \n",
    "</h3>  "
   ]
  },
  {
   "cell_type": "code",
   "execution_count": 17,
   "id": "90b3fe2a",
   "metadata": {
    "execution": {
     "iopub.execute_input": "2025-04-04T15:27:18.487146Z",
     "iopub.status.busy": "2025-04-04T15:27:18.486765Z",
     "iopub.status.idle": "2025-04-04T15:27:18.492088Z",
     "shell.execute_reply": "2025-04-04T15:27:18.491049Z"
    },
    "papermill": {
     "duration": 0.020769,
     "end_time": "2025-04-04T15:27:18.493910",
     "exception": false,
     "start_time": "2025-04-04T15:27:18.473141",
     "status": "completed"
    },
    "tags": []
   },
   "outputs": [],
   "source": [
    "def MSE(x,y,w,b):\n",
    "    x=np.array(x)\n",
    "    y=np.array(y)\n",
    "    n=len(y) \n",
    "    y_pre=np.dot(x,w)+b\n",
    "    summation=0\n",
    "    for i in range(n):\n",
    "        summation+=((y[i]-y_pre[i])**2)   \n",
    "    return summation/n "
   ]
  },
  {
   "cell_type": "code",
   "execution_count": 18,
   "id": "9ecc96f0",
   "metadata": {
    "execution": {
     "iopub.execute_input": "2025-04-04T15:27:18.517481Z",
     "iopub.status.busy": "2025-04-04T15:27:18.517087Z",
     "iopub.status.idle": "2025-04-04T15:27:18.521732Z",
     "shell.execute_reply": "2025-04-04T15:27:18.520634Z"
    },
    "papermill": {
     "duration": 0.017263,
     "end_time": "2025-04-04T15:27:18.523513",
     "exception": false,
     "start_time": "2025-04-04T15:27:18.506250",
     "status": "completed"
    },
    "tags": []
   },
   "outputs": [],
   "source": [
    "def R2_score(x,y,w,b):\n",
    "    g=MSE(x,y,w,b)/np.var(y)\n",
    "    return (1-g)*100"
   ]
  },
  {
   "cell_type": "markdown",
   "id": "d81e6b69",
   "metadata": {
    "papermill": {
     "duration": 0.009782,
     "end_time": "2025-04-04T15:27:18.543490",
     "exception": false,
     "start_time": "2025-04-04T15:27:18.533708",
     "status": "completed"
    },
    "tags": []
   },
   "source": [
    "<h3 style=\"background-color: lightblue; border: 2px solid black; color: black; display: inline-block; padding: 10px; text-align: left; margin: 0;\">\n",
    "Batch_Gradient_Descent\n",
    "</h3>  "
   ]
  },
  {
   "cell_type": "markdown",
   "id": "d4454a6c",
   "metadata": {
    "papermill": {
     "duration": 0.010351,
     "end_time": "2025-04-04T15:27:18.563858",
     "exception": false,
     "start_time": "2025-04-04T15:27:18.553507",
     "status": "completed"
    },
    "tags": []
   },
   "source": [
    "<h3 style=\"background-color: gray; border: 2px solid black; color: black; display: inline-block; padding: 10px; text-align: left; margin: 0;\">\n",
    "  Batch Gradient Descent (BGD) - Explained\n",
    "</h3>\n",
    "\n",
    "<h4 style=\"background-color: gray; border: 2px solid black; color: black; display: inline-block; padding: 10px; text-align: left; margin: 10px 0;\">\n",
    "  🔹 What is Batch Gradient Descent?\n",
    "</h4>\n",
    "<p style=\"background-color: gray; border: 2px solid black; color: black; display: inline-block; padding: 10px; margin: 0;\">\n",
    "  Batch Gradient Descent (BGD) is an optimization algorithm used in machine learning to minimize the cost function by adjusting the model parameters iteratively using the entire dataset.\n",
    "</p>\n",
    "\n",
    "<h4 style=\"background-color: gray; border: 2px solid black; color: black; display: inline-block; padding: 10px; text-align: left; margin: 10px 0;\">\n",
    "  📍 Steps of Batch Gradient Descent\n",
    "</h4>\n",
    "<ol style=\"background-color: gray; border: 2px solid black; color: black; display: inline-block; padding: 10px; margin: 0;\">\n",
    "  <li>1️⃣ <b>Initialize Parameters:</b> Start with random values for the model parameters (weights & biases).</li>\n",
    "  <li>2️⃣ <b>Compute the Cost Function:</b> Use all training samples to calculate the cost function.</li>\n",
    "  <li>3️⃣ <b>Compute the Gradient:</b> Compute the gradient (partial derivatives) using the entire dataset.</li>\n",
    "  <li>4️⃣ <b>Update Parameters:</b> Adjust parameters using the learning rate (𝛼) and the computed gradients.</li>\n",
    "  <li>5️⃣ <b>Repeat Until Convergence:</b> Continue updating parameters until the cost function stabilizes.</li>\n",
    "</ol>\n",
    "\n",
    "<h4 style=\"background-color: gray; border: 2px solid black; color: black; display: inline-block; padding: 10px; text-align: left; margin: 10px 0;\">\n",
    "  📍 Mathematical Formula:\n",
    "</h4>\n",
    "<pre style=\"background-color: white; border: 2px solid black; color: black; display: inline-block; padding: 10px; margin: 10px 0;\">\n",
    "θ = θ - α ⋅ ∇J(θ)\n",
    "</pre>\n",
    "<p style=\"background-color: gray; border: 2px solid black; color: black; display: inline-block; padding: 10px; margin: 0;\">\n",
    "  Where:\n",
    "</p>\n",
    "<ul style=\"background-color: gray; border: 2px solid black; color: black; display: inline-block; padding: 10px; margin: 0;\">\n",
    "  <li>θ represents the parameters (weights & biases).</li>\n",
    "  <li>α is the learning rate.</li>\n",
    "  <li>∇J(θ) is the gradient of the cost function.</li>\n",
    "</ul>\n",
    "\n",
    "<h4 style=\"background-color: gray; border: 2px solid black; color: black; display: inline-block; padding: 10px; text-align: left; margin: 10px 0;\">\n",
    "  🔹 Advantages of Batch Gradient Descent\n",
    "</h4>\n",
    "<ul style=\"background-color: gray; border: 2px solid black; color: black; display: inline-block; padding: 10px; margin: 0;\">\n",
    "  <li>✅ <b>Stable Convergence:</b> Uses the full dataset, leading to smooth updates.</li>\n",
    "  <li>✅ <b>Fewer Updates per Epoch:</b> Parameters are updated once per iteration.</li>\n",
    "  <li>✅ <b>Deterministic Behavior:</b> Always follows the same path toward convergence.</li>\n",
    "</ul>\n",
    "\n",
    "<h4 style=\"background-color: gray; border: 2px solid black; color: black; display: inline-block; padding: 10px; text-align: left; margin: 10px 0;\">\n",
    "  🔹 Disadvantages of Batch Gradient Descent\n",
    "</h4>\n",
    "<ul style=\"background-color: gray; border: 2px solid black; color: black; display: inline-block; padding: 10px; margin: 0;\">\n",
    "  <li>❌ <b>Slow for Large Datasets:</b> Computing gradients for the entire dataset can be computationally expensive.</li>\n",
    "  <li>❌ <b>High Memory Usage:</b> Requires loading the entire dataset into memory.</li>\n",
    "  <li>❌ <b>May Get Stuck in Local Minima:</b> Since it follows a fixed direction, it may struggle to escape poor local optima.</li>\n",
    "</ul>\n"
   ]
  },
  {
   "cell_type": "code",
   "execution_count": 19,
   "id": "d8630edb",
   "metadata": {
    "execution": {
     "iopub.execute_input": "2025-04-04T15:27:18.585640Z",
     "iopub.status.busy": "2025-04-04T15:27:18.585144Z",
     "iopub.status.idle": "2025-04-04T15:27:18.593608Z",
     "shell.execute_reply": "2025-04-04T15:27:18.592380Z"
    },
    "papermill": {
     "duration": 0.021493,
     "end_time": "2025-04-04T15:27:18.595669",
     "exception": false,
     "start_time": "2025-04-04T15:27:18.574176",
     "status": "completed"
    },
    "tags": []
   },
   "outputs": [],
   "source": [
    "def Batch_Gradient_Descent(x_training,y_training,learning_rate,epoch,w,b):\n",
    "    x_training=np.array(x_training)\n",
    "    y_training=np.array(y_training)\n",
    "    if y_training.ndim==1:\n",
    "        y_training=y_training.reshape(-1,1)\n",
    "    n=len(x_training)\n",
    "    w=np.zeros((x_training.shape[1],1))\n",
    "    loss=[]\n",
    "    epoch_save=[]\n",
    "    for i in range(epoch):\n",
    "        ypred=np.dot(x_training,w)+b\n",
    "        w_der=(-2/n)*((np.dot(x_training.T,(y_training-ypred))))\n",
    "        b_der=(-2/n)*(np.sum(y_training-ypred))\n",
    "        w-=learning_rate*w_der\n",
    "        b-=learning_rate*b_der\n",
    "        if i%2==0:\n",
    "            epoch_save.append(i)\n",
    "            loss.append(MSE(x_training,y_training,w,b))\n",
    "    plt.figure(figsize=(8, 5))\n",
    "    plt.plot(epoch_save, loss, linestyle='-', color='blue', marker='o', markersize=5, markerfacecolor='red', label='MSE Loss')  \n",
    "    plt.xlabel('Epoch')\n",
    "    plt.ylabel('Loss')\n",
    "    plt.title('Batch Gradient Descent - Loss over Epochs')\n",
    "    plt.legend()\n",
    "    plt.grid(True)\n",
    "    plt.show()\n",
    "    return w,b\n",
    "            "
   ]
  },
  {
   "cell_type": "markdown",
   "id": "df511e1c",
   "metadata": {
    "papermill": {
     "duration": 0.009449,
     "end_time": "2025-04-04T15:27:18.615331",
     "exception": false,
     "start_time": "2025-04-04T15:27:18.605882",
     "status": "completed"
    },
    "tags": []
   },
   "source": [
    "<h3 style=\"background-color: lightblue; border: 2px solid black; color: black; display: inline-block; padding: 10px; text-align: left; margin: 0;\">\n",
    "Stochastic_Gradient_Descent\n",
    "</h3>  "
   ]
  },
  {
   "cell_type": "markdown",
   "id": "7c123ecc",
   "metadata": {
    "papermill": {
     "duration": 0.010071,
     "end_time": "2025-04-04T15:27:18.636020",
     "exception": false,
     "start_time": "2025-04-04T15:27:18.625949",
     "status": "completed"
    },
    "tags": []
   },
   "source": [
    "<h3 style=\"background-color: gray; border: 2px solid black; color: black; display: inline-block; padding: 10px; text-align: left; margin: 0;\">\n",
    "  Stochastic Gradient Descent (SGD) - Explained\n",
    "</h3>\n",
    "\n",
    "<h4 style=\"background-color: gray; border: 2px solid black; color: black; display: inline-block; padding: 10px; text-align: left; margin: 10px 0;\">\n",
    "  🔹 What is Stochastic Gradient Descent?\n",
    "</h4>\n",
    "<p style=\"background-color: gray; border: 2px solid black; color: black; display: inline-block; padding: 10px; margin: 0;\">\n",
    "  Stochastic Gradient Descent (SGD) is an optimization algorithm used to minimize a cost function by updating the model’s parameters after processing \n",
    "  one randomly selected training example at a time.\n",
    "</p>\n",
    "\n",
    "<h4 style=\"background-color: gray; border: 2px solid black; color: black; display: inline-block; padding: 10px; text-align: left; margin: 10px 0;\">\n",
    "  📍 Mathematical Formula:\n",
    "</h4>\n",
    "<pre style=\"background-color: white; border: 2px solid black; color: black; display: inline-block; padding: 10px; margin: 10px 0;\">\n",
    "θ = θ - α ⋅ ∇J(θ, xᵢ, yᵢ)\n",
    "</pre>\n",
    "<p style=\"background-color: gray; border: 2px solid black; color: black; display: inline-block; padding: 10px; margin: 0;\">\n",
    "  Where:\n",
    "</p>\n",
    "<ul style=\"background-color: gray; border: 2px solid black; color: black; display: inline-block; padding: 10px; margin: 0;\">\n",
    "  <li>θ represents the parameters (weights & biases).</li>\n",
    "  <li>α is the learning rate.</li>\n",
    "  <li>∇J(θ, xᵢ, yᵢ) is the gradient of the cost function for one example.</li>\n",
    "</ul>\n",
    "\n",
    "<h4 style=\"background-color: gray; border: 2px solid black; color: black; display: inline-block; padding: 10px; text-align: left; margin: 10px 0;\">\n",
    "  🔹 Steps to Implement Stochastic Gradient Descent\n",
    "</h4>\n",
    "<ol style=\"background-color: gray; border: 2px solid black; color: black; display: inline-block; padding: 10px; margin: 0;\">\n",
    "  <li>1️⃣ Initialize parameters with random values.</li>\n",
    "  <li>2️⃣ Shuffle the dataset to avoid biased updates.</li>\n",
    "  <li>3️⃣ For each training example (xᵢ, yᵢ), compute the gradient and update parameters.</li>\n",
    "  <li>4️⃣ Repeat the updates until convergence is achieved.</li>\n",
    "</ol>\n",
    "\n",
    "<h4 style=\"background-color: gray; border: 2px solid black; color: black; display: inline-block; padding: 10px; text-align: left; margin: 10px 0;\">\n",
    "  ✅ Advantages of Stochastic Gradient Descent\n",
    "</h4>\n",
    "<ul style=\"background-color: gray; border: 2px solid black; color: black; display: inline-block; padding: 10px; margin: 0;\">\n",
    "  <li>✅ Faster computation as updates happen after each training example.</li>\n",
    "  <li>✅ Low memory usage, making it ideal for large datasets.</li>\n",
    "  <li>✅ Can escape local minima due to the randomness in updates.</li>\n",
    "</ul>\n",
    "\n",
    "<h4 style=\"background-color: gray; border: 2px solid black; color: black; display: inline-block; padding: 10px; text-align: left; margin: 10px 0;\">\n",
    "  ❌ Disadvantages of Stochastic Gradient Descent\n",
    "</h4>\n",
    "<ul style=\"background-color: gray; border: 2px solid black; color: black; display: inline-block; padding: 10px; margin: 0;\">\n",
    "  <li>❌ High variability in updates can cause fluctuations in the cost function.</li>\n",
    "  <li>❌ Might not converge exactly due to frequent updates.</li>\n",
    "  <li>❌ Sensitive to learning rate selection.</li>\n",
    "</ul>\n"
   ]
  },
  {
   "cell_type": "code",
   "execution_count": 20,
   "id": "733a626d",
   "metadata": {
    "execution": {
     "iopub.execute_input": "2025-04-04T15:27:18.658240Z",
     "iopub.status.busy": "2025-04-04T15:27:18.657898Z",
     "iopub.status.idle": "2025-04-04T15:27:18.665790Z",
     "shell.execute_reply": "2025-04-04T15:27:18.664867Z"
    },
    "papermill": {
     "duration": 0.021006,
     "end_time": "2025-04-04T15:27:18.667459",
     "exception": false,
     "start_time": "2025-04-04T15:27:18.646453",
     "status": "completed"
    },
    "tags": []
   },
   "outputs": [],
   "source": [
    "def Stochastic_Gradient_Descent(x_training, y_training, learning_rate, epoch, w, b):\n",
    "    x_training = np.array(x_training)\n",
    "    y_training = np.array(y_training)\n",
    "    if y_training.ndim == 1:\n",
    "        y_training = y_training.reshape(-1, 1)\n",
    "    n = len(x_training)\n",
    "    loss = []\n",
    "    epoch_save=[]\n",
    "    for j in range(epoch):\n",
    "        randomsample = np.random.permutation(n)\n",
    "        epoch_loss = 0\n",
    "        for i in randomsample:\n",
    "            x_training_update = x_training[i].reshape(1, -1)\n",
    "            y_pred = np.dot(x_training_update, w) + b \n",
    "            w_der = (-2) * np.dot(x_training_update.T, (y_training[i] - y_pred))\n",
    "            b_der = (-2) * (y_training[i] - y_pred)\n",
    "            w -= learning_rate * w_der\n",
    "            b -= learning_rate * b_der\n",
    "            epoch_loss += MSE(x_training_update,y_training[i],w,b)\n",
    "        epoch_loss /= n \n",
    "        if j%5==0:\n",
    "            epoch_save.append(j)\n",
    "            loss.append(epoch_loss)\n",
    "    plt.figure(figsize=(8, 5))\n",
    "    plt.plot(epoch_save, loss, linestyle='-', color='blue', marker='o', markersize=5, markerfacecolor='red', label='MSE Loss')  \n",
    "    plt.xlabel('Epoch')\n",
    "    plt.ylabel('Loss')\n",
    "    plt.title('stochastic Gradient Descent - Loss over Epochs')\n",
    "    plt.legend()\n",
    "    plt.grid(True)\n",
    "    plt.show()\n",
    "\n",
    "    return w, b"
   ]
  },
  {
   "cell_type": "markdown",
   "id": "f1dbcd48",
   "metadata": {
    "papermill": {
     "duration": 0.009529,
     "end_time": "2025-04-04T15:27:18.687279",
     "exception": false,
     "start_time": "2025-04-04T15:27:18.677750",
     "status": "completed"
    },
    "tags": []
   },
   "source": [
    "<h3 style=\"background-color: lightblue; border: 2px solid black; color: black; display: inline-block; padding: 10px; text-align: left; margin: 0;\">\n",
    "MiniBatch_Gradient_Descent\n",
    "</h3>  "
   ]
  },
  {
   "cell_type": "markdown",
   "id": "5e64eefe",
   "metadata": {
    "papermill": {
     "duration": 0.010206,
     "end_time": "2025-04-04T15:27:18.707693",
     "exception": false,
     "start_time": "2025-04-04T15:27:18.697487",
     "status": "completed"
    },
    "tags": []
   },
   "source": [
    "<h3 style=\"background-color: gray; border: 2px solid black; color: black; display: inline-block; padding: 10px; text-align: left; margin: 0;\">\n",
    "  Mini-Batch Gradient Descent (MBGD) - Explained\n",
    "</h3>\n",
    "\n",
    "<h4 style=\"background-color: gray; border: 2px solid black; color: black; display: inline-block; padding: 10px; text-align: left; margin: 10px 0;\">\n",
    "  🔹 What is Mini-Batch Gradient Descent?\n",
    "</h4>\n",
    "<p style=\"background-color: gray; border: 2px solid black; color: black; display: inline-block; padding: 10px; margin: 0;\">\n",
    "  Mini-Batch Gradient Descent (MBGD) is an optimization algorithm that balances the benefits of Batch Gradient Descent (BGD) and \n",
    "  Stochastic Gradient Descent (SGD) by updating model parameters using small groups (mini-batches) of training examples instead \n",
    "  of the entire dataset or a single sample.\n",
    "</p>\n",
    "\n",
    "<h4 style=\"background-color: gray; border: 2px solid black; color: black; display: inline-block; padding: 10px; text-align: left; margin: 10px 0;\">\n",
    "  📍 Mathematical Formula:\n",
    "</h4>\n",
    "<pre style=\"background-color: white; border: 2px solid black; color: black; display: inline-block; padding: 10px; margin: 10px 0;\">\n",
    "θ = θ - α ⋅ ∇J(θ, Bₖ)\n",
    "</pre>\n",
    "<p style=\"background-color: gray; border: 2px solid black; color: black; display: inline-block; padding: 10px; margin: 0;\">\n",
    "  Where:\n",
    "</p>\n",
    "<ul style=\"background-color: gray; border: 2px solid black; color: black; display: inline-block; padding: 10px; margin: 0;\">\n",
    "  <li>θ represents the model parameters (weights & biases).</li>\n",
    "  <li>α is the learning rate.</li>\n",
    "  <li>∇J(θ, Bₖ) is the gradient of the cost function for the mini-batch Bₖ.</li>\n",
    "</ul>\n",
    "\n",
    "<h4 style=\"background-color: gray; border: 2px solid black; color: black; display: inline-block; padding: 10px; text-align: left; margin: 10px 0;\">\n",
    "  🔹 Steps to Implement Mini-Batch Gradient Descent\n",
    "</h4>\n",
    "<ol style=\"background-color: gray; border: 2px solid black; color: black; display: inline-block; padding: 10px; margin: 0;\">\n",
    "  <li>1️⃣ Initialize parameters with random values.</li>\n",
    "  <li>2️⃣ Divide dataset into small mini-batches (e.g., 32, 64, 128 samples per batch).</li>\n",
    "  <li>3️⃣ Compute the gradient of the cost function for each mini-batch.</li>\n",
    "  <li>4️⃣ Update model parameters based on the computed gradient.</li>\n",
    "  <li>5️⃣ Repeat until convergence is achieved.</li>\n",
    "</ol>\n",
    "\n",
    "<h4 style=\"background-color: gray; border: 2px solid black; color: black; display: inline-block; padding: 10px; text-align: left; margin: 10px 0;\">\n",
    "  ✅ Advantages of Mini-Batch Gradient Descent\n",
    "</h4>\n",
    "<ul style=\"background-color: gray; border: 2px solid black; color: black; display: inline-block; padding: 10px; margin: 0;\">\n",
    "  <li>✅ Balances speed and stability better than BGD and SGD.</li>\n",
    "  <li>✅ Uses less memory, making it efficient for large datasets.</li>\n",
    "  <li>✅ Reduces noisy updates, leading to smoother convergence.</li>\n",
    "  <li>✅ Can leverage GPU acceleration for faster processing.</li>\n",
    "</ul>\n",
    "\n",
    "<h4 style=\"background-color: gray; border: 2px solid black; color: black; display: inline-block; padding: 10px; text-align: left; margin: 10px 0;\">\n",
    "  ❌ Disadvantages of Mini-Batch Gradient Descent\n",
    "</h4>\n",
    "<ul style=\"background-color: gray; border: 2px solid black; color: black; display: inline-block; padding: 10px; margin: 0;\">\n",
    "  <li>❌ Requires storing mini-batches, which can be an issue for very large datasets.</li>\n",
    "  <li>❌ Needs hyperparameter tuning for batch size to balance performance.</li>\n",
    "  <li>❌ Small batch sizes may lead to noisy updates, while large ones may slow convergence.</li>\n",
    "</ul>\n"
   ]
  },
  {
   "cell_type": "code",
   "execution_count": 21,
   "id": "cd1f4ac2",
   "metadata": {
    "execution": {
     "iopub.execute_input": "2025-04-04T15:27:18.732005Z",
     "iopub.status.busy": "2025-04-04T15:27:18.731645Z",
     "iopub.status.idle": "2025-04-04T15:27:18.741893Z",
     "shell.execute_reply": "2025-04-04T15:27:18.740758Z"
    },
    "papermill": {
     "duration": 0.025316,
     "end_time": "2025-04-04T15:27:18.744046",
     "exception": false,
     "start_time": "2025-04-04T15:27:18.718730",
     "status": "completed"
    },
    "tags": []
   },
   "outputs": [],
   "source": [
    "\n",
    "def MiniBatch_Gradient_Descent(x_training,y_training,learning_rate,epoch,w,b,batch_size):\n",
    "    x_training=np.array(x_training)\n",
    "    y_training=np.array(y_training)\n",
    "    n=len(x_training)\n",
    "    w=np.zeros((x_training.shape[1],1))\n",
    "    if y_training.ndim==1:\n",
    "           y_training=y_training.reshape(-1,1)\n",
    "    loss=[]\n",
    "    epoch_save=[]\n",
    "    for j in range(epoch):\n",
    "        epoloss=0\n",
    "        df=list(zip(x_training,y_training))\n",
    "        random.shuffle(df)\n",
    "        x_training_shuffle,y_training_shuffle=zip(*df)\n",
    "        x_training_shuffle=np.array(x_training_shuffle)\n",
    "        y_training_shuffle=np.array(y_training_shuffle)\n",
    "        for i in range(0,n,batch_size):\n",
    "            x_training_batch=x_training_shuffle[i:i+batch_size,:]\n",
    "            y_training_batch=y_training_shuffle[i:i+batch_size]\n",
    "            ypred=np.dot(x_training_batch,w)+b\n",
    "            w_der=(-2/(len(x_training_batch)))*((np.dot(x_training_batch.T,(y_training_batch-ypred))))\n",
    "            b_der=(-2/(len(x_training_batch)))*(np.sum(y_training_batch-ypred))\n",
    "            w-=learning_rate*w_der\n",
    "            b-=learning_rate*b_der\n",
    "            epoloss+=MSE(x_training_batch,y_training_batch,w,b)\n",
    "        epoloss /= (n/batch_size)\n",
    "        if j%2==0:\n",
    "            epoch_save.append(j)\n",
    "            loss.append(epoloss) \n",
    "    plt.figure(figsize=(8, 5))\n",
    "    plt.plot(epoch_save, loss, linestyle='-', color='blue', marker='o', markersize=5, markerfacecolor='red', label='MSE Loss')\n",
    "    plt.xlabel('Epoch')\n",
    "    plt.ylabel('Loss')\n",
    "    plt.title('Mini-Batch Gradient Descent - Loss over Epochs')\n",
    "    plt.legend()\n",
    "    plt.grid(True)\n",
    "    plt.show()\n",
    "            \n",
    "    return w,b\n",
    "        \n",
    "    "
   ]
  },
  {
   "cell_type": "markdown",
   "id": "4cf64632",
   "metadata": {
    "papermill": {
     "duration": 0.010186,
     "end_time": "2025-04-04T15:27:18.765363",
     "exception": false,
     "start_time": "2025-04-04T15:27:18.755177",
     "status": "completed"
    },
    "tags": []
   },
   "source": [
    "<h3 style=\"background-color: lightblue; border: 2px solid black; color: black; display: inline-block; padding: 10px; text-align: left; margin: 0;\">\n",
    "MSE & R2_Score Using Batch_Gradient_Descent\n",
    "</h3>  "
   ]
  },
  {
   "cell_type": "code",
   "execution_count": 22,
   "id": "fb4e4c18",
   "metadata": {
    "execution": {
     "iopub.execute_input": "2025-04-04T15:27:18.787789Z",
     "iopub.status.busy": "2025-04-04T15:27:18.787417Z",
     "iopub.status.idle": "2025-04-04T15:27:19.184736Z",
     "shell.execute_reply": "2025-04-04T15:27:19.183465Z"
    },
    "papermill": {
     "duration": 0.410784,
     "end_time": "2025-04-04T15:27:19.186632",
     "exception": false,
     "start_time": "2025-04-04T15:27:18.775848",
     "status": "completed"
    },
    "tags": []
   },
   "outputs": [
    {
     "data": {
      "image/png": "[encoded data removed]",
      "text/plain": [
       "<Figure size 800x500 with 1 Axes>"
      ]
     },
     "metadata": {},
     "output_type": "display_data"
    },
    {
     "name": "stdout",
     "output_type": "stream",
     "text": [
      "Mean Square Error And R2 score For Training Data\n",
      "[0.10148293]\n",
      "[89.21161441]\n",
      "Mean Square Error And R2 score For Testing Data\n",
      "[0.22160922]\n",
      "[82.02207785]\n"
     ]
    }
   ],
   "source": [
    "w_init = np.zeros((X_train.shape[1], 1))\n",
    "b_init = 0 \n",
    "learning_rate = 0.01\n",
    "epochs = 100\n",
    "w_final, b_final = Batch_Gradient_Descent(X_train, Y_train, learning_rate, epochs, w_init, b_init)\n",
    "print(\"Mean Square Error And R2 score For Training Data\")\n",
    "print(MSE(X_train,Y_train,w_final,b_final))\n",
    "print(R2_score(X_train,Y_train,w_final,b_final))\n",
    "print(\"Mean Square Error And R2 score For Testing Data\")\n",
    "print(MSE(X_test,Y_test,w_final,b_final))\n",
    "print(R2_score(X_test,Y_test,w_final,b_final))\n"
   ]
  },
  {
   "cell_type": "markdown",
   "id": "a95dc158",
   "metadata": {
    "papermill": {
     "duration": 0.012209,
     "end_time": "2025-04-04T15:27:19.210397",
     "exception": false,
     "start_time": "2025-04-04T15:27:19.198188",
     "status": "completed"
    },
    "tags": []
   },
   "source": [
    "<h3 style=\"background-color: lightblue; border: 2px solid black; color: black; display: inline-block; padding: 10px; text-align: left; margin: 0;\">\n",
    "MSE & R2_Score Using Stochastic_Gradient_Descent\n",
    "</h3>  "
   ]
  },
  {
   "cell_type": "code",
   "execution_count": 23,
   "id": "db32d7c3",
   "metadata": {
    "execution": {
     "iopub.execute_input": "2025-04-04T15:27:19.234782Z",
     "iopub.status.busy": "2025-04-04T15:27:19.234409Z",
     "iopub.status.idle": "2025-04-04T15:27:19.986604Z",
     "shell.execute_reply": "2025-04-04T15:27:19.985228Z"
    },
    "papermill": {
     "duration": 0.7669,
     "end_time": "2025-04-04T15:27:19.989044",
     "exception": false,
     "start_time": "2025-04-04T15:27:19.222144",
     "status": "completed"
    },
    "tags": []
   },
   "outputs": [
    {
     "data": {
      "image/png": "[encoded data removed]",
      "text/plain": [
       "<Figure size 800x500 with 1 Axes>"
      ]
     },
     "metadata": {},
     "output_type": "display_data"
    },
    {
     "name": "stdout",
     "output_type": "stream",
     "text": [
      "Mean Square Error And R2 score For Training Data\n",
      "[0.24704593]\n",
      "[73.73719245]\n",
      "Mean Square Error And R2 score For Testing Data\n",
      "[0.56790833]\n",
      "[53.9287601]\n"
     ]
    }
   ],
   "source": [
    "w_init = np.zeros((X_train.shape[1], 1))\n",
    "b_init = 0 \n",
    "learning_rate = 0.1\n",
    "epochs = 100\n",
    "w_last, b_last = Stochastic_Gradient_Descent(X_train, Y_train, learning_rate, epochs, w_init, b_init)\n",
    "print(\"Mean Square Error And R2 score For Training Data\")\n",
    "print(MSE(X_train,Y_train,w_last,b_last))\n",
    "print(R2_score(X_train,Y_train,w_last,b_last))\n",
    "print(\"Mean Square Error And R2 score For Testing Data\")\n",
    "print(MSE(X_test,Y_test,w_last,b_last))\n",
    "print(R2_score(X_test,Y_test,w_last,b_last))"
   ]
  },
  {
   "cell_type": "markdown",
   "id": "d3bdb108",
   "metadata": {
    "papermill": {
     "duration": 0.011881,
     "end_time": "2025-04-04T15:27:20.013879",
     "exception": false,
     "start_time": "2025-04-04T15:27:20.001998",
     "status": "completed"
    },
    "tags": []
   },
   "source": [
    "<h3 style=\"background-color: lightblue; border: 2px solid black; color: black; display: inline-block; padding: 10px; text-align: left; margin: 0;\">\n",
    "MSE & R2_Score Using MiniBatch_Gradient_Descent\n",
    "</h3>  "
   ]
  },
  {
   "cell_type": "code",
   "execution_count": 24,
   "id": "7c26e418",
   "metadata": {
    "execution": {
     "iopub.execute_input": "2025-04-04T15:27:20.042175Z",
     "iopub.status.busy": "2025-04-04T15:27:20.041804Z",
     "iopub.status.idle": "2025-04-04T15:27:20.424964Z",
     "shell.execute_reply": "2025-04-04T15:27:20.423648Z"
    },
    "papermill": {
     "duration": 0.399245,
     "end_time": "2025-04-04T15:27:20.426915",
     "exception": false,
     "start_time": "2025-04-04T15:27:20.027670",
     "status": "completed"
    },
    "tags": []
   },
   "outputs": [
    {
     "data": {
      "image/png": "[encoded data removed]",
      "text/plain": [
       "<Figure size 800x500 with 1 Axes>"
      ]
     },
     "metadata": {},
     "output_type": "display_data"
    },
    {
     "name": "stdout",
     "output_type": "stream",
     "text": [
      "Mean Square Error And R2 score For Training Data\n",
      "[0.08357638]\n",
      "[91.115213]\n",
      "Mean Square Error And R2 score For Testing Data\n",
      "[0.19046234]\n",
      "[84.54885113]\n"
     ]
    }
   ],
   "source": [
    "w_init = np.zeros((X_train.shape[1], 1))\n",
    "b_init = 0 \n",
    "learning_rate = 0.01\n",
    "epochs = 100\n",
    "batch_size = 10\n",
    "w_new, b_new = MiniBatch_Gradient_Descent(X_train, Y_train, learning_rate, epochs, w_init, b_init, batch_size)\n",
    "print(\"Mean Square Error And R2 score For Training Data\")\n",
    "print(MSE(X_train,Y_train,w_new,b_new))\n",
    "print(R2_score(X_train,Y_train,w_new,b_new))\n",
    "print(\"Mean Square Error And R2 score For Testing Data\")\n",
    "print(MSE(X_test,Y_test,w_new,b_new))\n",
    "print(R2_score(X_test,Y_test,w_new,b_new))"
   ]
  },
  {
   "cell_type": "markdown",
   "id": "66350932",
   "metadata": {
    "papermill": {
     "duration": 0.013721,
     "end_time": "2025-04-04T15:27:20.455654",
     "exception": false,
     "start_time": "2025-04-04T15:27:20.441933",
     "status": "completed"
    },
    "tags": []
   },
   "source": [
    "<h3 style=\"background-color: lightblue; border: 2px solid black; color: black; display: inline-block; padding: 10px; text-align: left; margin: 0;\">\n",
    "Built in Linear Regression Model\n",
    "</h3>  "
   ]
  },
  {
   "cell_type": "code",
   "execution_count": 25,
   "id": "a4ec7c0c",
   "metadata": {
    "execution": {
     "iopub.execute_input": "2025-04-04T15:27:20.486742Z",
     "iopub.status.busy": "2025-04-04T15:27:20.486352Z",
     "iopub.status.idle": "2025-04-04T15:27:20.660369Z",
     "shell.execute_reply": "2025-04-04T15:27:20.659136Z"
    },
    "papermill": {
     "duration": 0.191383,
     "end_time": "2025-04-04T15:27:20.662225",
     "exception": false,
     "start_time": "2025-04-04T15:27:20.470842",
     "status": "completed"
    },
    "tags": []
   },
   "outputs": [
    {
     "name": "stdout",
     "output_type": "stream",
     "text": [
      "R² Score: 84.4917\n"
     ]
    }
   ],
   "source": [
    "from sklearn.linear_model import LinearRegression\n",
    "from sklearn.metrics import r2_score\n",
    "lin_reg = LinearRegression()\n",
    "lin_reg.fit(X_train,Y_train)\n",
    "y_pred = lin_reg.predict(X_test)\n",
    "r2 = r2_score(Y_test, y_pred)*100\n",
    "print(f\"R² Score: {r2:.4f}\")"
   ]
  }
 ],
 "metadata": {
  "kaggle": {
   "accelerator": "none",
   "dataSources": [
    {
     "datasetId": 3223827,
     "sourceId": 5604378,
     "sourceType": "datasetVersion"
    }
   ],
   "dockerImageVersionId": 30918,
   "isGpuEnabled": false,
   "isInternetEnabled": true,
   "language": "python",
   "sourceType": "notebook"
  },
  "kernelspec": {
   "display_name": "Python 3",
   "language": "python",
   "name": "python3"
  },
  "language_info": {
   "codemirror_mode": {
    "name": "ipython",
    "version": 3
   },
   "file_extension": ".py",
   "mimetype": "text/x-python",
   "name": "python",
   "nbconvert_exporter": "python",
   "pygments_lexer": "ipython3",
   "version": "3.10.12"
  },
  "papermill": {
   "default_parameters": {},
   "duration": 14.724316,
   "end_time": "2025-04-04T15:27:21.596922",
   "environment_variables": {},
   "exception": null,
   "input_path": "__notebook__.ipynb",
   "output_path": "__notebook__.ipynb",
   "parameters": {},
   "start_time": "2025-04-04T15:27:06.872606",
   "version": "2.6.0"
  }
 },
 "nbformat": 4,
 "nbformat_minor": 5
}
